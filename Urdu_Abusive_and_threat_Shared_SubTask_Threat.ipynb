{
 "cells": [
  {
   "cell_type": "code",
   "execution_count": 3,
   "metadata": {},
   "outputs": [],
   "source": [
    "import pandas as pd\n",
    "from sklearn.model_selection import train_test_split "
   ]
  },
  {
   "cell_type": "code",
   "execution_count": 5,
   "metadata": {},
   "outputs": [],
   "source": [
    "import sys"
   ]
  },
  {
   "cell_type": "code",
   "execution_count": 6,
   "metadata": {},
   "outputs": [
    {
     "data": {
      "text/plain": [
       "['/Users/alisa/workspace/kaggle/abusive_and_threat_urdu_SoC',\n",
       " '/Users/alisa/.pyenv/versions/anaconda3-2019.10/envs/cs224n/lib/python37.zip',\n",
       " '/Users/alisa/.pyenv/versions/anaconda3-2019.10/envs/cs224n/lib/python3.7',\n",
       " '/Users/alisa/.pyenv/versions/anaconda3-2019.10/envs/cs224n/lib/python3.7/lib-dynload',\n",
       " '',\n",
       " '/Users/alisa/.pyenv/versions/anaconda3-2019.10/envs/cs224n/lib/python3.7/site-packages',\n",
       " '/Users/alisa/.pyenv/versions/anaconda3-2019.10/envs/cs224n/lib/python3.7/site-packages/IPython/extensions',\n",
       " '/Users/alisa/.ipython']"
      ]
     },
     "execution_count": 6,
     "metadata": {},
     "output_type": "execute_result"
    }
   ],
   "source": [
    "sys.path"
   ]
  },
  {
   "cell_type": "code",
   "execution_count": 10,
   "metadata": {},
   "outputs": [
    {
     "name": "stdout",
     "output_type": "stream",
     "text": [
      "Collecting openpyxl\n",
      "  Downloading openpyxl-3.0.7-py2.py3-none-any.whl (243 kB)\n",
      "\u001b[K     |████████████████████████████████| 243 kB 1.4 MB/s eta 0:00:01\n",
      "\u001b[?25hCollecting et-xmlfile\n",
      "  Downloading et_xmlfile-1.1.0-py3-none-any.whl (4.7 kB)\n",
      "Installing collected packages: et-xmlfile, openpyxl\n",
      "Successfully installed et-xmlfile-1.1.0 openpyxl-3.0.7\n"
     ]
    }
   ],
   "source": [
    "!pip install openpyxl"
   ]
  },
  {
   "cell_type": "code",
   "execution_count": 2,
   "metadata": {},
   "outputs": [
    {
     "name": "stdout",
     "output_type": "stream",
     "text": [
      "total 1352\r\n",
      "-rw-rw-r--@ 1 alisa  staff    12K Jul  2  2020 Data Statistics.docx\r\n",
      "-rw-rw-r--@ 1 alisa  staff   139K Jul  2  2020 test_dataset.xlsx\r\n",
      "-rw-rw-r--@ 1 alisa  staff   522K Jul  2  2020 train_dataset.xlsx\r\n"
     ]
    }
   ],
   "source": [
    "!ls -lh /Users/alisa/Dropbox/Academics/maaz/abusive_hate_speech/datasets/Urdu\\ Threatening\\ Tweets"
   ]
  },
  {
   "cell_type": "code",
   "execution_count": 4,
   "metadata": {},
   "outputs": [],
   "source": [
    "DIR_T = '/Users/alisa/Dropbox/Academics/maaz/abusive_hate_speech/datasets/Urdu Threatening Tweets/'"
   ]
  },
  {
   "cell_type": "code",
   "execution_count": 20,
   "metadata": {},
   "outputs": [
    {
     "data": {
      "text/plain": [
       "((7964, 2), Index(['Tweets', 'label'], dtype='object'))"
      ]
     },
     "execution_count": 20,
     "metadata": {},
     "output_type": "execute_result"
    }
   ],
   "source": [
    "tr = pd.read_excel(DIR_T + 'train_dataset.xlsx')\n",
    "tr.shape, tr.columns "
   ]
  },
  {
   "cell_type": "code",
   "execution_count": 21,
   "metadata": {},
   "outputs": [
    {
     "data": {
      "text/html": [
       "<div>\n",
       "<style scoped>\n",
       "    .dataframe tbody tr th:only-of-type {\n",
       "        vertical-align: middle;\n",
       "    }\n",
       "\n",
       "    .dataframe tbody tr th {\n",
       "        vertical-align: top;\n",
       "    }\n",
       "\n",
       "    .dataframe thead th {\n",
       "        text-align: right;\n",
       "    }\n",
       "</style>\n",
       "<table border=\"1\" class=\"dataframe\">\n",
       "  <thead>\n",
       "    <tr style=\"text-align: right;\">\n",
       "      <th></th>\n",
       "      <th>Tweets</th>\n",
       "      <th>label</th>\n",
       "    </tr>\n",
       "  </thead>\n",
       "  <tbody>\n",
       "    <tr>\n",
       "      <th>0</th>\n",
       "      <td>بکواس مت کرو</td>\n",
       "      <td>1</td>\n",
       "    </tr>\n",
       "    <tr>\n",
       "      <th>1</th>\n",
       "      <td>بھارت میں کشمیر کا مسئلہ عمران خان کی تجویز کے...</td>\n",
       "      <td>0</td>\n",
       "    </tr>\n",
       "    <tr>\n",
       "      <th>2</th>\n",
       "      <td>بھارت کا مقبوضہ کشمیر پر حملہ کیایہ پاکستان پر...</td>\n",
       "      <td>0</td>\n",
       "    </tr>\n",
       "    <tr>\n",
       "      <th>3</th>\n",
       "      <td>تمہاری ہیجڑا فورس ایک نہتے کے سامنے بکری بنی ہ...</td>\n",
       "      <td>1</td>\n",
       "    </tr>\n",
       "    <tr>\n",
       "      <th>4</th>\n",
       "      <td>آفیسر سمیتبھارتی فوجی جہنم واصل،بنکرز تباہ بھا...</td>\n",
       "      <td>1</td>\n",
       "    </tr>\n",
       "  </tbody>\n",
       "</table>\n",
       "</div>"
      ],
      "text/plain": [
       "                                              Tweets  label\n",
       "0                                       بکواس مت کرو      1\n",
       "1  بھارت میں کشمیر کا مسئلہ عمران خان کی تجویز کے...      0\n",
       "2  بھارت کا مقبوضہ کشمیر پر حملہ کیایہ پاکستان پر...      0\n",
       "3  تمہاری ہیجڑا فورس ایک نہتے کے سامنے بکری بنی ہ...      1\n",
       "4  آفیسر سمیتبھارتی فوجی جہنم واصل،بنکرز تباہ بھا...      1"
      ]
     },
     "execution_count": 21,
     "metadata": {},
     "output_type": "execute_result"
    }
   ],
   "source": [
    "tr.head()"
   ]
  },
  {
   "cell_type": "code",
   "execution_count": 22,
   "metadata": {},
   "outputs": [
    {
     "data": {
      "text/plain": [
       "((1986, 2), Index(['Tweets', 'label'], dtype='object'))"
      ]
     },
     "execution_count": 22,
     "metadata": {},
     "output_type": "execute_result"
    }
   ],
   "source": [
    "tst = pd.read_excel(DIR_T + 'test_dataset.xlsx')\n",
    "tst.shape, tst.columns "
   ]
  },
  {
   "cell_type": "code",
   "execution_count": 23,
   "metadata": {},
   "outputs": [
    {
     "data": {
      "text/plain": [
       "((9950, 2), Index(['Tweets', 'label'], dtype='object'))"
      ]
     },
     "execution_count": 23,
     "metadata": {},
     "output_type": "execute_result"
    }
   ],
   "source": [
    "df = pd.concat([tr, tst])\n",
    "df.shape, df.columns"
   ]
  },
  {
   "cell_type": "code",
   "execution_count": 24,
   "metadata": {},
   "outputs": [],
   "source": [
    "df.columns = ['tweet', 'target']"
   ]
  },
  {
   "cell_type": "code",
   "execution_count": 25,
   "metadata": {},
   "outputs": [],
   "source": [
    "df.reset_index(inplace=True)"
   ]
  },
  {
   "cell_type": "code",
   "execution_count": 26,
   "metadata": {},
   "outputs": [
    {
     "data": {
      "text/html": [
       "<div>\n",
       "<style scoped>\n",
       "    .dataframe tbody tr th:only-of-type {\n",
       "        vertical-align: middle;\n",
       "    }\n",
       "\n",
       "    .dataframe tbody tr th {\n",
       "        vertical-align: top;\n",
       "    }\n",
       "\n",
       "    .dataframe thead th {\n",
       "        text-align: right;\n",
       "    }\n",
       "</style>\n",
       "<table border=\"1\" class=\"dataframe\">\n",
       "  <thead>\n",
       "    <tr style=\"text-align: right;\">\n",
       "      <th></th>\n",
       "      <th>index</th>\n",
       "      <th>tweet</th>\n",
       "      <th>target</th>\n",
       "    </tr>\n",
       "  </thead>\n",
       "  <tbody>\n",
       "    <tr>\n",
       "      <th>0</th>\n",
       "      <td>0</td>\n",
       "      <td>بکواس مت کرو</td>\n",
       "      <td>1</td>\n",
       "    </tr>\n",
       "    <tr>\n",
       "      <th>1</th>\n",
       "      <td>1</td>\n",
       "      <td>بھارت میں کشمیر کا مسئلہ عمران خان کی تجویز کے...</td>\n",
       "      <td>0</td>\n",
       "    </tr>\n",
       "    <tr>\n",
       "      <th>2</th>\n",
       "      <td>2</td>\n",
       "      <td>بھارت کا مقبوضہ کشمیر پر حملہ کیایہ پاکستان پر...</td>\n",
       "      <td>0</td>\n",
       "    </tr>\n",
       "    <tr>\n",
       "      <th>3</th>\n",
       "      <td>3</td>\n",
       "      <td>تمہاری ہیجڑا فورس ایک نہتے کے سامنے بکری بنی ہ...</td>\n",
       "      <td>1</td>\n",
       "    </tr>\n",
       "    <tr>\n",
       "      <th>4</th>\n",
       "      <td>4</td>\n",
       "      <td>آفیسر سمیتبھارتی فوجی جہنم واصل،بنکرز تباہ بھا...</td>\n",
       "      <td>1</td>\n",
       "    </tr>\n",
       "  </tbody>\n",
       "</table>\n",
       "</div>"
      ],
      "text/plain": [
       "   index                                              tweet  target\n",
       "0      0                                       بکواس مت کرو       1\n",
       "1      1  بھارت میں کشمیر کا مسئلہ عمران خان کی تجویز کے...       0\n",
       "2      2  بھارت کا مقبوضہ کشمیر پر حملہ کیایہ پاکستان پر...       0\n",
       "3      3  تمہاری ہیجڑا فورس ایک نہتے کے سامنے بکری بنی ہ...       1\n",
       "4      4  آفیسر سمیتبھارتی فوجی جہنم واصل،بنکرز تباہ بھا...       1"
      ]
     },
     "execution_count": 26,
     "metadata": {},
     "output_type": "execute_result"
    }
   ],
   "source": [
    "df.head()"
   ]
  },
  {
   "cell_type": "code",
   "execution_count": 28,
   "metadata": {},
   "outputs": [
    {
     "data": {
      "text/plain": [
       "((9950, 3), (7964,))"
      ]
     },
     "execution_count": 28,
     "metadata": {},
     "output_type": "execute_result"
    }
   ],
   "source": [
    "df.shape, df['index'].unique().shape"
   ]
  },
  {
   "cell_type": "code",
   "execution_count": 29,
   "metadata": {},
   "outputs": [],
   "source": [
    "df.drop(columns=['index'], axis=1, inplace=True)"
   ]
  },
  {
   "cell_type": "code",
   "execution_count": 30,
   "metadata": {},
   "outputs": [],
   "source": [
    "df['id'] = df.index"
   ]
  },
  {
   "cell_type": "code",
   "execution_count": 31,
   "metadata": {},
   "outputs": [],
   "source": [
    "df = df[['id', 'tweet', 'target']]"
   ]
  },
  {
   "cell_type": "code",
   "execution_count": 37,
   "metadata": {
    "scrolled": true
   },
   "outputs": [
    {
     "data": {
      "text/html": [
       "<div>\n",
       "<style scoped>\n",
       "    .dataframe tbody tr th:only-of-type {\n",
       "        vertical-align: middle;\n",
       "    }\n",
       "\n",
       "    .dataframe tbody tr th {\n",
       "        vertical-align: top;\n",
       "    }\n",
       "\n",
       "    .dataframe thead th {\n",
       "        text-align: right;\n",
       "    }\n",
       "</style>\n",
       "<table border=\"1\" class=\"dataframe\">\n",
       "  <thead>\n",
       "    <tr style=\"text-align: right;\">\n",
       "      <th></th>\n",
       "      <th>id</th>\n",
       "      <th>tweet</th>\n",
       "      <th>target</th>\n",
       "    </tr>\n",
       "  </thead>\n",
       "  <tbody>\n",
       "    <tr>\n",
       "      <th>9945</th>\n",
       "      <td>9945</td>\n",
       "      <td>جس ارب ڈالرز کو سعودی عرب بھارت میں انوسٹ کر ر...</td>\n",
       "      <td>0</td>\n",
       "    </tr>\n",
       "    <tr>\n",
       "      <th>9946</th>\n",
       "      <td>9946</td>\n",
       "      <td>اوئے لنڈے کے ارسطو درباری  دلے حرام زادے</td>\n",
       "      <td>1</td>\n",
       "    </tr>\n",
       "    <tr>\n",
       "      <th>9947</th>\n",
       "      <td>9947</td>\n",
       "      <td>کتے کے بچے کان کھول کر سن اؤے</td>\n",
       "      <td>1</td>\n",
       "    </tr>\n",
       "    <tr>\n",
       "      <th>9948</th>\n",
       "      <td>9948</td>\n",
       "      <td>میں تیری گانڈ میں فایڑ ماروں گا</td>\n",
       "      <td>1</td>\n",
       "    </tr>\n",
       "    <tr>\n",
       "      <th>9949</th>\n",
       "      <td>9949</td>\n",
       "      <td>کتے کی موت مرو گے</td>\n",
       "      <td>1</td>\n",
       "    </tr>\n",
       "  </tbody>\n",
       "</table>\n",
       "</div>"
      ],
      "text/plain": [
       "        id                                              tweet  target\n",
       "9945  9945  جس ارب ڈالرز کو سعودی عرب بھارت میں انوسٹ کر ر...       0\n",
       "9946  9946          اوئے لنڈے کے ارسطو درباری  دلے حرام زادے        1\n",
       "9947  9947                      کتے کے بچے کان کھول کر سن اؤے       1\n",
       "9948  9948                   میں تیری گانڈ میں فایڑ ماروں گا        1\n",
       "9949  9949                                  کتے کی موت مرو گے       1"
      ]
     },
     "execution_count": 37,
     "metadata": {},
     "output_type": "execute_result"
    }
   ],
   "source": [
    "df.tail()"
   ]
  },
  {
   "cell_type": "code",
   "execution_count": 33,
   "metadata": {},
   "outputs": [
    {
     "data": {
      "text/plain": [
       "((9950, 3), (9950,))"
      ]
     },
     "execution_count": 33,
     "metadata": {},
     "output_type": "execute_result"
    }
   ],
   "source": [
    "df.shape, df['id'].unique().shape"
   ]
  },
  {
   "cell_type": "code",
   "execution_count": 34,
   "metadata": {},
   "outputs": [
    {
     "data": {
      "text/plain": [
       "id        0\n",
       "tweet     0\n",
       "target    0\n",
       "dtype: int64"
      ]
     },
     "execution_count": 34,
     "metadata": {},
     "output_type": "execute_result"
    }
   ],
   "source": [
    "df.isnull().sum()"
   ]
  },
  {
   "cell_type": "code",
   "execution_count": 38,
   "metadata": {},
   "outputs": [
    {
     "name": "stdout",
     "output_type": "stream",
     "text": [
      "dataset_all.csv\r\n"
     ]
    }
   ],
   "source": [
    "!ls data/threat_tweets_Urdu"
   ]
  },
  {
   "cell_type": "code",
   "execution_count": 35,
   "metadata": {},
   "outputs": [],
   "source": [
    "df.to_csv('data/threat_tweets_Urdu/dataset_all.csv', index=False)"
   ]
  },
  {
   "cell_type": "code",
   "execution_count": 5,
   "metadata": {},
   "outputs": [],
   "source": [
    "DIR = 'data/threat_tweets_Urdu/'"
   ]
  },
  {
   "cell_type": "markdown",
   "metadata": {},
   "source": [
    "## Train Test Split"
   ]
  },
  {
   "cell_type": "code",
   "execution_count": 38,
   "metadata": {},
   "outputs": [],
   "source": [
    "df_train, df_test = train_test_split(df, test_size=3950)"
   ]
  },
  {
   "cell_type": "markdown",
   "metadata": {},
   "source": [
    "### Train "
   ]
  },
  {
   "cell_type": "code",
   "execution_count": 39,
   "metadata": {},
   "outputs": [
    {
     "data": {
      "text/plain": [
       "((6000, 3), 1071)"
      ]
     },
     "execution_count": 39,
     "metadata": {},
     "output_type": "execute_result"
    }
   ],
   "source": [
    "df_train.shape, df_train['target'].sum()"
   ]
  },
  {
   "cell_type": "code",
   "execution_count": 41,
   "metadata": {},
   "outputs": [
    {
     "data": {
      "text/plain": [
       "((6000, 3), (6000,))"
      ]
     },
     "execution_count": 41,
     "metadata": {},
     "output_type": "execute_result"
    }
   ],
   "source": [
    "df_train.shape, df_train['id'].unique().shape"
   ]
  },
  {
   "cell_type": "code",
   "execution_count": 40,
   "metadata": {},
   "outputs": [
    {
     "data": {
      "text/html": [
       "<div>\n",
       "<style scoped>\n",
       "    .dataframe tbody tr th:only-of-type {\n",
       "        vertical-align: middle;\n",
       "    }\n",
       "\n",
       "    .dataframe tbody tr th {\n",
       "        vertical-align: top;\n",
       "    }\n",
       "\n",
       "    .dataframe thead th {\n",
       "        text-align: right;\n",
       "    }\n",
       "</style>\n",
       "<table border=\"1\" class=\"dataframe\">\n",
       "  <thead>\n",
       "    <tr style=\"text-align: right;\">\n",
       "      <th></th>\n",
       "      <th>id</th>\n",
       "      <th>tweet</th>\n",
       "      <th>target</th>\n",
       "    </tr>\n",
       "  </thead>\n",
       "  <tbody>\n",
       "    <tr>\n",
       "      <th>4661</th>\n",
       "      <td>4661</td>\n",
       "      <td>لوئر دیر تھانہ منڈہ کے حدود گوسم فائرنگ پانچ ا...</td>\n",
       "      <td>0</td>\n",
       "    </tr>\n",
       "    <tr>\n",
       "      <th>7227</th>\n",
       "      <td>7227</td>\n",
       "      <td>اسلۓ کہ تمھارا آقا کے آگے لیٹا ھوا تھا۔ بیغیرت...</td>\n",
       "      <td>1</td>\n",
       "    </tr>\n",
       "    <tr>\n",
       "      <th>2413</th>\n",
       "      <td>2413</td>\n",
       "      <td>لیکن نوازشریف نے اسے بھی ایکسٹینشن نہیں دی تھی...</td>\n",
       "      <td>0</td>\n",
       "    </tr>\n",
       "    <tr>\n",
       "      <th>8159</th>\n",
       "      <td>8159</td>\n",
       "      <td>اس گشتی کو پتہ نہی ہے کہ ایٹمی جنگ کسے کہتے ہیں</td>\n",
       "      <td>1</td>\n",
       "    </tr>\n",
       "    <tr>\n",
       "      <th>9571</th>\n",
       "      <td>9571</td>\n",
       "      <td>کشمیر بیچ دیا غیرت ساتھ بیچ ڈالی امریکی غلامی ...</td>\n",
       "      <td>0</td>\n",
       "    </tr>\n",
       "  </tbody>\n",
       "</table>\n",
       "</div>"
      ],
      "text/plain": [
       "        id                                              tweet  target\n",
       "4661  4661  لوئر دیر تھانہ منڈہ کے حدود گوسم فائرنگ پانچ ا...       0\n",
       "7227  7227  اسلۓ کہ تمھارا آقا کے آگے لیٹا ھوا تھا۔ بیغیرت...       1\n",
       "2413  2413  لیکن نوازشریف نے اسے بھی ایکسٹینشن نہیں دی تھی...       0\n",
       "8159  8159    اس گشتی کو پتہ نہی ہے کہ ایٹمی جنگ کسے کہتے ہیں       1\n",
       "9571  9571  کشمیر بیچ دیا غیرت ساتھ بیچ ڈالی امریکی غلامی ...       0"
      ]
     },
     "execution_count": 40,
     "metadata": {},
     "output_type": "execute_result"
    }
   ],
   "source": [
    "df_train.head()"
   ]
  },
  {
   "cell_type": "code",
   "execution_count": 42,
   "metadata": {},
   "outputs": [],
   "source": [
    "df_train.to_csv(DIR + 'train.csv', index=False)"
   ]
  },
  {
   "cell_type": "code",
   "execution_count": 6,
   "metadata": {},
   "outputs": [
    {
     "data": {
      "text/plain": [
       "((6000, 3), Index(['id', 'tweet', 'target'], dtype='object'))"
      ]
     },
     "execution_count": 6,
     "metadata": {},
     "output_type": "execute_result"
    }
   ],
   "source": [
    "df_train = pd.read_csv(DIR + 'train.csv')\n",
    "df_train.shape, df_train.columns"
   ]
  },
  {
   "cell_type": "code",
   "execution_count": 7,
   "metadata": {},
   "outputs": [
    {
     "data": {
      "text/plain": [
       "0    4929\n",
       "1    1071\n",
       "Name: target, dtype: int64"
      ]
     },
     "execution_count": 7,
     "metadata": {},
     "output_type": "execute_result"
    }
   ],
   "source": [
    "df_train['target'].value_counts()"
   ]
  },
  {
   "cell_type": "markdown",
   "metadata": {},
   "source": [
    "### Test"
   ]
  },
  {
   "cell_type": "code",
   "execution_count": 43,
   "metadata": {},
   "outputs": [],
   "source": [
    "split = ['private']*df_test.shape[0]"
   ]
  },
  {
   "cell_type": "code",
   "execution_count": 44,
   "metadata": {},
   "outputs": [],
   "source": [
    "i = 0 \n",
    "while i < 1000:\n",
    "    split[i*2] = 'public'\n",
    "    i += 1    "
   ]
  },
  {
   "cell_type": "code",
   "execution_count": 45,
   "metadata": {},
   "outputs": [],
   "source": [
    "df_test = df_test.copy()\n",
    "df_test['split'] = split"
   ]
  },
  {
   "cell_type": "code",
   "execution_count": 46,
   "metadata": {},
   "outputs": [
    {
     "data": {
      "text/plain": [
       "((3950, 4), (3950,))"
      ]
     },
     "execution_count": 46,
     "metadata": {},
     "output_type": "execute_result"
    }
   ],
   "source": [
    "df_test.shape, df_test['id'].unique().shape"
   ]
  },
  {
   "cell_type": "code",
   "execution_count": 46,
   "metadata": {},
   "outputs": [
    {
     "data": {
      "text/html": [
       "<div>\n",
       "<style scoped>\n",
       "    .dataframe tbody tr th:only-of-type {\n",
       "        vertical-align: middle;\n",
       "    }\n",
       "\n",
       "    .dataframe tbody tr th {\n",
       "        vertical-align: top;\n",
       "    }\n",
       "\n",
       "    .dataframe thead th {\n",
       "        text-align: right;\n",
       "    }\n",
       "</style>\n",
       "<table border=\"1\" class=\"dataframe\">\n",
       "  <thead>\n",
       "    <tr style=\"text-align: right;\">\n",
       "      <th></th>\n",
       "      <th>id</th>\n",
       "      <th>tweet</th>\n",
       "      <th>target</th>\n",
       "      <th>split</th>\n",
       "    </tr>\n",
       "  </thead>\n",
       "  <tbody>\n",
       "    <tr>\n",
       "      <th>4509</th>\n",
       "      <td>4509</td>\n",
       "      <td>کشمیر میں اپنی آخری سانس تک لڑیں گئے انشاءاللہ</td>\n",
       "      <td>1</td>\n",
       "      <td>public</td>\n",
       "    </tr>\n",
       "    <tr>\n",
       "      <th>5025</th>\n",
       "      <td>5025</td>\n",
       "      <td>کشمیر کا سودا کرنے والے بیغیرتوں پر الللہ کا ع...</td>\n",
       "      <td>1</td>\n",
       "      <td>private</td>\n",
       "    </tr>\n",
       "    <tr>\n",
       "      <th>4696</th>\n",
       "      <td>4696</td>\n",
       "      <td>افسوس کا مقام ھے کہ حکومت میں شامل کچھ لوگ ہی ...</td>\n",
       "      <td>0</td>\n",
       "      <td>public</td>\n",
       "    </tr>\n",
       "    <tr>\n",
       "      <th>427</th>\n",
       "      <td>427</td>\n",
       "      <td>کابل میں شادی کی تقریب میں خودکش بم دھماکا افر...</td>\n",
       "      <td>0</td>\n",
       "      <td>private</td>\n",
       "    </tr>\n",
       "    <tr>\n",
       "      <th>778</th>\n",
       "      <td>778</td>\n",
       "      <td>ابی سالے چوتیہ کی اولاد تم لوگوں پیشاب بھی یہ ...</td>\n",
       "      <td>0</td>\n",
       "      <td>public</td>\n",
       "    </tr>\n",
       "  </tbody>\n",
       "</table>\n",
       "</div>"
      ],
      "text/plain": [
       "        id                                              tweet  target    split\n",
       "4509  4509     کشمیر میں اپنی آخری سانس تک لڑیں گئے انشاءاللہ       1   public\n",
       "5025  5025  کشمیر کا سودا کرنے والے بیغیرتوں پر الللہ کا ع...       1  private\n",
       "4696  4696  افسوس کا مقام ھے کہ حکومت میں شامل کچھ لوگ ہی ...       0   public\n",
       "427    427  کابل میں شادی کی تقریب میں خودکش بم دھماکا افر...       0  private\n",
       "778    778  ابی سالے چوتیہ کی اولاد تم لوگوں پیشاب بھی یہ ...       0   public"
      ]
     },
     "execution_count": 46,
     "metadata": {},
     "output_type": "execute_result"
    }
   ],
   "source": [
    "df_test.head()"
   ]
  },
  {
   "cell_type": "code",
   "execution_count": 47,
   "metadata": {},
   "outputs": [
    {
     "data": {
      "text/plain": [
       "private    2950\n",
       "public     1000\n",
       "Name: split, dtype: int64"
      ]
     },
     "execution_count": 47,
     "metadata": {},
     "output_type": "execute_result"
    }
   ],
   "source": [
    "df_test['split'].value_counts()"
   ]
  },
  {
   "cell_type": "code",
   "execution_count": 48,
   "metadata": {},
   "outputs": [
    {
     "data": {
      "text/plain": [
       "Index(['id', 'tweet', 'target', 'split'], dtype='object')"
      ]
     },
     "execution_count": 48,
     "metadata": {},
     "output_type": "execute_result"
    }
   ],
   "source": [
    "df_test.columns"
   ]
  },
  {
   "cell_type": "code",
   "execution_count": 49,
   "metadata": {},
   "outputs": [],
   "source": [
    "df_test[['id', 'target', 'split']].to_csv(DIR + 'test_answ_and_split.csv', index=False)"
   ]
  },
  {
   "cell_type": "code",
   "execution_count": 50,
   "metadata": {},
   "outputs": [],
   "source": [
    "df_test[['id', 'tweet']].to_csv(DIR + 'test.csv', index=False)"
   ]
  },
  {
   "cell_type": "code",
   "execution_count": 8,
   "metadata": {},
   "outputs": [
    {
     "data": {
      "text/plain": [
       "((3950, 3), Index(['id', 'target', 'split'], dtype='object'))"
      ]
     },
     "execution_count": 8,
     "metadata": {},
     "output_type": "execute_result"
    }
   ],
   "source": [
    "df_test = pd.read_csv(DIR + 'test_answ_and_split.csv')\n",
    "df_test.shape, df_test.columns"
   ]
  },
  {
   "cell_type": "code",
   "execution_count": 9,
   "metadata": {},
   "outputs": [
    {
     "data": {
      "text/plain": [
       "0    3231\n",
       "1     719\n",
       "Name: target, dtype: int64"
      ]
     },
     "execution_count": 9,
     "metadata": {},
     "output_type": "execute_result"
    }
   ],
   "source": [
    "df_test['target'].value_counts()"
   ]
  },
  {
   "cell_type": "code",
   "execution_count": 10,
   "metadata": {},
   "outputs": [
    {
     "data": {
      "text/plain": [
       "0    842\n",
       "1    158\n",
       "Name: target, dtype: int64"
      ]
     },
     "execution_count": 10,
     "metadata": {},
     "output_type": "execute_result"
    }
   ],
   "source": [
    "df_test[df_test['split'] == 'public']['target'].value_counts()"
   ]
  },
  {
   "cell_type": "code",
   "execution_count": 11,
   "metadata": {},
   "outputs": [
    {
     "data": {
      "text/plain": [
       "0    2389\n",
       "1     561\n",
       "Name: target, dtype: int64"
      ]
     },
     "execution_count": 11,
     "metadata": {},
     "output_type": "execute_result"
    }
   ],
   "source": [
    "df_test[df_test['split'] == 'private']['target'].value_counts()"
   ]
  },
  {
   "cell_type": "code",
   "execution_count": null,
   "metadata": {},
   "outputs": [],
   "source": []
  },
  {
   "cell_type": "markdown",
   "metadata": {},
   "source": [
    "## Baseline Model "
   ]
  },
  {
   "cell_type": "code",
   "execution_count": 51,
   "metadata": {},
   "outputs": [],
   "source": [
    "import nltk"
   ]
  },
  {
   "cell_type": "code",
   "execution_count": 52,
   "metadata": {},
   "outputs": [],
   "source": [
    "df_train = df_train.copy()"
   ]
  },
  {
   "cell_type": "code",
   "execution_count": 53,
   "metadata": {},
   "outputs": [],
   "source": [
    "def extract_ngrams(data, num=1):\n",
    "    n_grams = nltk.ngrams(nltk.word_tokenize(data), num)\n",
    "    return [ ' '.join(grams) for grams in n_grams]"
   ]
  },
  {
   "cell_type": "code",
   "execution_count": 54,
   "metadata": {},
   "outputs": [],
   "source": [
    "df_train['unigrams'] = df_train['tweet'].apply(extract_ngrams)\n",
    "df_train['bigrams'] = df_train['tweet'].apply(lambda x: extract_ngrams(x, 2))\n",
    "\n",
    "df_test['unigrams'] = df_test['tweet'].apply(extract_ngrams)\n",
    "df_test['bigrams'] = df_test['tweet'].apply(lambda x: extract_ngrams(x, 2))"
   ]
  },
  {
   "cell_type": "markdown",
   "metadata": {},
   "source": [
    "### Vocabulary Set-Up"
   ]
  },
  {
   "cell_type": "code",
   "execution_count": 55,
   "metadata": {},
   "outputs": [],
   "source": [
    "from collections import Counter"
   ]
  },
  {
   "cell_type": "code",
   "execution_count": 56,
   "metadata": {},
   "outputs": [],
   "source": [
    "uni = Counter()\n",
    "for idx, row in df_train.iterrows(): \n",
    "    uni.update(row['unigrams'])"
   ]
  },
  {
   "cell_type": "code",
   "execution_count": 57,
   "metadata": {},
   "outputs": [],
   "source": [
    "df_vocab = pd.DataFrame.from_dict(uni, orient='index', columns=['count'])\n",
    "df_vocab.reset_index(inplace=True)\n",
    "df_vocab.columns = ['uniram', 'count']"
   ]
  },
  {
   "cell_type": "code",
   "execution_count": 58,
   "metadata": {},
   "outputs": [
    {
     "data": {
      "text/html": [
       "<div>\n",
       "<style scoped>\n",
       "    .dataframe tbody tr th:only-of-type {\n",
       "        vertical-align: middle;\n",
       "    }\n",
       "\n",
       "    .dataframe tbody tr th {\n",
       "        vertical-align: top;\n",
       "    }\n",
       "\n",
       "    .dataframe thead th {\n",
       "        text-align: right;\n",
       "    }\n",
       "</style>\n",
       "<table border=\"1\" class=\"dataframe\">\n",
       "  <thead>\n",
       "    <tr style=\"text-align: right;\">\n",
       "      <th></th>\n",
       "      <th>count</th>\n",
       "    </tr>\n",
       "  </thead>\n",
       "  <tbody>\n",
       "    <tr>\n",
       "      <th>count</th>\n",
       "      <td>12485.000000</td>\n",
       "    </tr>\n",
       "    <tr>\n",
       "      <th>mean</th>\n",
       "      <td>8.292511</td>\n",
       "    </tr>\n",
       "    <tr>\n",
       "      <th>std</th>\n",
       "      <td>63.487691</td>\n",
       "    </tr>\n",
       "    <tr>\n",
       "      <th>min</th>\n",
       "      <td>1.000000</td>\n",
       "    </tr>\n",
       "    <tr>\n",
       "      <th>25%</th>\n",
       "      <td>1.000000</td>\n",
       "    </tr>\n",
       "    <tr>\n",
       "      <th>50%</th>\n",
       "      <td>1.000000</td>\n",
       "    </tr>\n",
       "    <tr>\n",
       "      <th>75%</th>\n",
       "      <td>3.000000</td>\n",
       "    </tr>\n",
       "    <tr>\n",
       "      <th>max</th>\n",
       "      <td>2730.000000</td>\n",
       "    </tr>\n",
       "  </tbody>\n",
       "</table>\n",
       "</div>"
      ],
      "text/plain": [
       "              count\n",
       "count  12485.000000\n",
       "mean       8.292511\n",
       "std       63.487691\n",
       "min        1.000000\n",
       "25%        1.000000\n",
       "50%        1.000000\n",
       "75%        3.000000\n",
       "max     2730.000000"
      ]
     },
     "execution_count": 58,
     "metadata": {},
     "output_type": "execute_result"
    }
   ],
   "source": [
    "df_vocab.describe()"
   ]
  },
  {
   "cell_type": "code",
   "execution_count": 60,
   "metadata": {},
   "outputs": [
    {
     "data": {
      "text/plain": [
       "103557"
      ]
     },
     "execution_count": 60,
     "metadata": {},
     "output_type": "execute_result"
    }
   ],
   "source": [
    "df_vocab['count'].sum()"
   ]
  },
  {
   "cell_type": "code",
   "execution_count": 62,
   "metadata": {},
   "outputs": [
    {
     "data": {
      "text/plain": [
       "((12480, 2), (3650, 2))"
      ]
     },
     "execution_count": 62,
     "metadata": {},
     "output_type": "execute_result"
    }
   ],
   "source": [
    "df_vocab.shape, df_vocab[df_vocab['count'] >= 3].shape"
   ]
  },
  {
   "cell_type": "code",
   "execution_count": 59,
   "metadata": {},
   "outputs": [
    {
     "data": {
      "text/plain": [
       "3640"
      ]
     },
     "execution_count": 59,
     "metadata": {},
     "output_type": "execute_result"
    }
   ],
   "source": [
    "vocab_uni = set(df_vocab[df_vocab['count'] >= 3]['uniram'])\n",
    "len(vocab_uni)"
   ]
  },
  {
   "cell_type": "code",
   "execution_count": 60,
   "metadata": {},
   "outputs": [
    {
     "data": {
      "text/plain": [
       "58662"
      ]
     },
     "execution_count": 60,
     "metadata": {},
     "output_type": "execute_result"
    }
   ],
   "source": [
    "bi = Counter()\n",
    "for idx, row in df_train.iterrows(): \n",
    "    bi.update(row['bigrams'])    \n",
    "len(bi)    "
   ]
  },
  {
   "cell_type": "code",
   "execution_count": 61,
   "metadata": {},
   "outputs": [],
   "source": [
    "vocab_bi_df = pd.DataFrame.from_dict(bi, orient='index', columns=['count'])\n",
    "vocab_bi_df.reset_index(inplace=True)\n",
    "vocab_bi_df.columns = ['bigram', 'count']"
   ]
  },
  {
   "cell_type": "code",
   "execution_count": 62,
   "metadata": {},
   "outputs": [
    {
     "data": {
      "text/html": [
       "<div>\n",
       "<style scoped>\n",
       "    .dataframe tbody tr th:only-of-type {\n",
       "        vertical-align: middle;\n",
       "    }\n",
       "\n",
       "    .dataframe tbody tr th {\n",
       "        vertical-align: top;\n",
       "    }\n",
       "\n",
       "    .dataframe thead th {\n",
       "        text-align: right;\n",
       "    }\n",
       "</style>\n",
       "<table border=\"1\" class=\"dataframe\">\n",
       "  <thead>\n",
       "    <tr style=\"text-align: right;\">\n",
       "      <th></th>\n",
       "      <th>count</th>\n",
       "    </tr>\n",
       "  </thead>\n",
       "  <tbody>\n",
       "    <tr>\n",
       "      <th>count</th>\n",
       "      <td>58662.000000</td>\n",
       "    </tr>\n",
       "    <tr>\n",
       "      <th>mean</th>\n",
       "      <td>1.662610</td>\n",
       "    </tr>\n",
       "    <tr>\n",
       "      <th>std</th>\n",
       "      <td>3.294768</td>\n",
       "    </tr>\n",
       "    <tr>\n",
       "      <th>min</th>\n",
       "      <td>1.000000</td>\n",
       "    </tr>\n",
       "    <tr>\n",
       "      <th>25%</th>\n",
       "      <td>1.000000</td>\n",
       "    </tr>\n",
       "    <tr>\n",
       "      <th>50%</th>\n",
       "      <td>1.000000</td>\n",
       "    </tr>\n",
       "    <tr>\n",
       "      <th>75%</th>\n",
       "      <td>1.000000</td>\n",
       "    </tr>\n",
       "    <tr>\n",
       "      <th>80%</th>\n",
       "      <td>1.000000</td>\n",
       "    </tr>\n",
       "    <tr>\n",
       "      <th>85%</th>\n",
       "      <td>2.000000</td>\n",
       "    </tr>\n",
       "    <tr>\n",
       "      <th>90%</th>\n",
       "      <td>2.000000</td>\n",
       "    </tr>\n",
       "    <tr>\n",
       "      <th>95%</th>\n",
       "      <td>4.000000</td>\n",
       "    </tr>\n",
       "    <tr>\n",
       "      <th>99%</th>\n",
       "      <td>13.000000</td>\n",
       "    </tr>\n",
       "    <tr>\n",
       "      <th>max</th>\n",
       "      <td>159.000000</td>\n",
       "    </tr>\n",
       "  </tbody>\n",
       "</table>\n",
       "</div>"
      ],
      "text/plain": [
       "              count\n",
       "count  58662.000000\n",
       "mean       1.662610\n",
       "std        3.294768\n",
       "min        1.000000\n",
       "25%        1.000000\n",
       "50%        1.000000\n",
       "75%        1.000000\n",
       "80%        1.000000\n",
       "85%        2.000000\n",
       "90%        2.000000\n",
       "95%        4.000000\n",
       "99%       13.000000\n",
       "max      159.000000"
      ]
     },
     "execution_count": 62,
     "metadata": {},
     "output_type": "execute_result"
    }
   ],
   "source": [
    "vocab_bi_df.describe(percentiles=[.25, .5, .75, .8, .85, .9, .95, .99])"
   ]
  },
  {
   "cell_type": "code",
   "execution_count": 68,
   "metadata": {},
   "outputs": [
    {
     "data": {
      "text/plain": [
       "((59000, 2), (3417, 2))"
      ]
     },
     "execution_count": 68,
     "metadata": {},
     "output_type": "execute_result"
    }
   ],
   "source": [
    "vocab_bi_df.shape, vocab_bi_df[vocab_bi_df['count'] >= 4].shape"
   ]
  },
  {
   "cell_type": "code",
   "execution_count": 63,
   "metadata": {},
   "outputs": [
    {
     "data": {
      "text/plain": [
       "3413"
      ]
     },
     "execution_count": 63,
     "metadata": {},
     "output_type": "execute_result"
    }
   ],
   "source": [
    "vocab_bi = set(vocab_bi_df[vocab_bi_df['count'] >= 4]['bigram'])\n",
    "len(vocab_bi)"
   ]
  },
  {
   "cell_type": "code",
   "execution_count": 64,
   "metadata": {},
   "outputs": [
    {
     "data": {
      "text/plain": [
       "7053"
      ]
     },
     "execution_count": 64,
     "metadata": {},
     "output_type": "execute_result"
    }
   ],
   "source": [
    "vocab = vocab_uni.union(vocab_bi)\n",
    "len(vocab)"
   ]
  },
  {
   "cell_type": "markdown",
   "metadata": {},
   "source": [
    "### Feature Engineering"
   ]
  },
  {
   "cell_type": "code",
   "execution_count": 65,
   "metadata": {},
   "outputs": [],
   "source": [
    "import numpy as np"
   ]
  },
  {
   "cell_type": "code",
   "execution_count": 66,
   "metadata": {},
   "outputs": [
    {
     "data": {
      "text/plain": [
       "(7053, 7055)"
      ]
     },
     "execution_count": 66,
     "metadata": {},
     "output_type": "execute_result"
    }
   ],
   "source": [
    "vocab_uni_li = list(vocab_uni)\n",
    "vocab_bi_li = list(vocab_bi)\n",
    "\n",
    "FEATURES = vocab_uni_li+vocab_bi_li + ['OOV_uni', 'OOV_bi']\n",
    "len(vocab_uni_li) + len(vocab_bi_li), len(FEATURES)"
   ]
  },
  {
   "cell_type": "code",
   "execution_count": 74,
   "metadata": {},
   "outputs": [
    {
     "data": {
      "text/plain": [
       "(6000, 5)"
      ]
     },
     "execution_count": 74,
     "metadata": {},
     "output_type": "execute_result"
    }
   ],
   "source": [
    "df_train.shape"
   ]
  },
  {
   "cell_type": "code",
   "execution_count": 68,
   "metadata": {},
   "outputs": [],
   "source": [
    "stuffing = np.zeros((6000, 7055))\n",
    "stuffing_df = pd.DataFrame(stuffing, columns = FEATURES)"
   ]
  },
  {
   "cell_type": "code",
   "execution_count": 79,
   "metadata": {},
   "outputs": [
    {
     "data": {
      "text/html": [
       "<div>\n",
       "<style scoped>\n",
       "    .dataframe tbody tr th:only-of-type {\n",
       "        vertical-align: middle;\n",
       "    }\n",
       "\n",
       "    .dataframe tbody tr th {\n",
       "        vertical-align: top;\n",
       "    }\n",
       "\n",
       "    .dataframe thead th {\n",
       "        text-align: right;\n",
       "    }\n",
       "</style>\n",
       "<table border=\"1\" class=\"dataframe\">\n",
       "  <thead>\n",
       "    <tr style=\"text-align: right;\">\n",
       "      <th></th>\n",
       "      <th>index</th>\n",
       "      <th>id</th>\n",
       "      <th>tweet</th>\n",
       "      <th>target</th>\n",
       "      <th>unigrams</th>\n",
       "      <th>bigrams</th>\n",
       "    </tr>\n",
       "  </thead>\n",
       "  <tbody>\n",
       "    <tr>\n",
       "      <th>0</th>\n",
       "      <td>2549</td>\n",
       "      <td>2549</td>\n",
       "      <td>انڈیا والو اور کہا کہا زلیل ہونا ہے</td>\n",
       "      <td>0</td>\n",
       "      <td>[انڈیا, والو, اور, کہا, کہا, زلیل, ہونا, ہے]</td>\n",
       "      <td>[انڈیا والو, والو اور, اور کہا, کہا کہا, کہا ز...</td>\n",
       "    </tr>\n",
       "    <tr>\n",
       "      <th>1</th>\n",
       "      <td>4154</td>\n",
       "      <td>4154</td>\n",
       "      <td>جس کی ماں گشتی باپ دلہ ہو وہ دوسروں کو بغیرت ک...</td>\n",
       "      <td>0</td>\n",
       "      <td>[جس, کی, ماں, گشتی, باپ, دلہ, ہو, وہ, دوسروں, ...</td>\n",
       "      <td>[جس کی, کی ماں, ماں گشتی, گشتی باپ, باپ دلہ, د...</td>\n",
       "    </tr>\n",
       "    <tr>\n",
       "      <th>2</th>\n",
       "      <td>3738</td>\n",
       "      <td>3738</td>\n",
       "      <td>الیکٹرانک میڈیا اتنا ظالم ھے کہ اس نے سب کو نن...</td>\n",
       "      <td>0</td>\n",
       "      <td>[الیکٹرانک, میڈیا, اتنا, ظالم, ھے, کہ, اس, نے,...</td>\n",
       "      <td>[الیکٹرانک میڈیا, میڈیا اتنا, اتنا ظالم, ظالم ...</td>\n",
       "    </tr>\n",
       "    <tr>\n",
       "      <th>3</th>\n",
       "      <td>4442</td>\n",
       "      <td>4442</td>\n",
       "      <td>خان نے سہی کہا تھا کہ میں ان کو رولاؤ گا ان کو...</td>\n",
       "      <td>1</td>\n",
       "      <td>[خان, نے, سہی, کہا, تھا, کہ, میں, ان, کو, رولا...</td>\n",
       "      <td>[خان نے, نے سہی, سہی کہا, کہا تھا, تھا کہ, کہ ...</td>\n",
       "    </tr>\n",
       "    <tr>\n",
       "      <th>4</th>\n",
       "      <td>511</td>\n",
       "      <td>511</td>\n",
       "      <td>ابھی دللی ممبی ہرجگہ کتے کی موت مریں گے یہ بزد...</td>\n",
       "      <td>1</td>\n",
       "      <td>[ابھی, دللی, ممبی, ہرجگہ, کتے, کی, موت, مریں, ...</td>\n",
       "      <td>[ابھی دللی, دللی ممبی, ممبی ہرجگہ, ہرجگہ کتے, ...</td>\n",
       "    </tr>\n",
       "  </tbody>\n",
       "</table>\n",
       "</div>"
      ],
      "text/plain": [
       "   index    id                                              tweet  target  \\\n",
       "0   2549  2549                انڈیا والو اور کہا کہا زلیل ہونا ہے       0   \n",
       "1   4154  4154  جس کی ماں گشتی باپ دلہ ہو وہ دوسروں کو بغیرت ک...       0   \n",
       "2   3738  3738  الیکٹرانک میڈیا اتنا ظالم ھے کہ اس نے سب کو نن...       0   \n",
       "3   4442  4442  خان نے سہی کہا تھا کہ میں ان کو رولاؤ گا ان کو...       1   \n",
       "4    511   511  ابھی دللی ممبی ہرجگہ کتے کی موت مریں گے یہ بزد...       1   \n",
       "\n",
       "                                            unigrams  \\\n",
       "0       [انڈیا, والو, اور, کہا, کہا, زلیل, ہونا, ہے]   \n",
       "1  [جس, کی, ماں, گشتی, باپ, دلہ, ہو, وہ, دوسروں, ...   \n",
       "2  [الیکٹرانک, میڈیا, اتنا, ظالم, ھے, کہ, اس, نے,...   \n",
       "3  [خان, نے, سہی, کہا, تھا, کہ, میں, ان, کو, رولا...   \n",
       "4  [ابھی, دللی, ممبی, ہرجگہ, کتے, کی, موت, مریں, ...   \n",
       "\n",
       "                                             bigrams  \n",
       "0  [انڈیا والو, والو اور, اور کہا, کہا کہا, کہا ز...  \n",
       "1  [جس کی, کی ماں, ماں گشتی, گشتی باپ, باپ دلہ, د...  \n",
       "2  [الیکٹرانک میڈیا, میڈیا اتنا, اتنا ظالم, ظالم ...  \n",
       "3  [خان نے, نے سہی, سہی کہا, کہا تھا, تھا کہ, کہ ...  \n",
       "4  [ابھی دللی, دللی ممبی, ممبی ہرجگہ, ہرجگہ کتے, ...  "
      ]
     },
     "execution_count": 79,
     "metadata": {},
     "output_type": "execute_result"
    }
   ],
   "source": [
    "df_train.head()"
   ]
  },
  {
   "cell_type": "code",
   "execution_count": 69,
   "metadata": {},
   "outputs": [],
   "source": [
    "df_train.reset_index(inplace=True)"
   ]
  },
  {
   "cell_type": "code",
   "execution_count": 70,
   "metadata": {},
   "outputs": [],
   "source": [
    "df_train.drop(columns=['index'], axis=1, inplace=True)"
   ]
  },
  {
   "cell_type": "code",
   "execution_count": 71,
   "metadata": {},
   "outputs": [
    {
     "data": {
      "text/plain": [
       "(6000, 7060)"
      ]
     },
     "execution_count": 71,
     "metadata": {},
     "output_type": "execute_result"
    }
   ],
   "source": [
    "train_df = pd.concat([df_train, stuffing_df], axis=1)\n",
    "train_df.shape"
   ]
  },
  {
   "cell_type": "code",
   "execution_count": 72,
   "metadata": {},
   "outputs": [],
   "source": [
    "def count_ngram_feats(df):    \n",
    "    global vocab\n",
    "    \n",
    "    total_oov_uni = 0\n",
    "    total_oov_bi = 0\n",
    "    \n",
    "    for idx, row in df.iterrows(): \n",
    "        # unigram part \n",
    "        ct = Counter()\n",
    "        ct.update(row['unigrams'])\n",
    "        oov_ct = 0 \n",
    "        \n",
    "        for k in ct.elements(): \n",
    "            if k in vocab:\n",
    "                df[k].iloc[idx] = ct.get(k)\n",
    "            else:     \n",
    "                oov_ct += ct.get(k)\n",
    "        df['OOV_uni'].iloc[idx] = oov_ct\n",
    "        total_oov_uni += oov_ct\n",
    "\n",
    "        # bigram part \n",
    "        ct = Counter()\n",
    "        ct.update(row['bigrams'])\n",
    "        oov_ct = 0 \n",
    "        \n",
    "        for k in ct.elements(): \n",
    "            if k in vocab:\n",
    "                df[k].iloc[idx] = ct.get(k)\n",
    "            else:     \n",
    "                oov_ct += ct.get(k)\n",
    "        df['OOV_bi'].iloc[idx] = oov_ct \n",
    "        total_oov_bi += oov_ct\n",
    "\n",
    "    print (total_oov_uni, total_oov_bi)"
   ]
  },
  {
   "cell_type": "code",
   "execution_count": 73,
   "metadata": {},
   "outputs": [
    {
     "name": "stderr",
     "output_type": "stream",
     "text": [
      "/Users/alisa/.pyenv/versions/anaconda3-2019.10/envs/cs224n/lib/python3.7/site-packages/pandas/core/indexing.py:1637: SettingWithCopyWarning: \n",
      "A value is trying to be set on a copy of a slice from a DataFrame\n",
      "\n",
      "See the caveats in the documentation: https://pandas.pydata.org/pandas-docs/stable/user_guide/indexing.html#returning-a-view-versus-a-copy\n",
      "  self._setitem_single_block(indexer, value, name)\n"
     ]
    },
    {
     "name": "stdout",
     "output_type": "stream",
     "text": [
      "10636 65691\n"
     ]
    }
   ],
   "source": [
    "count_ngram_feats(train_df)"
   ]
  },
  {
   "cell_type": "code",
   "execution_count": 84,
   "metadata": {},
   "outputs": [
    {
     "data": {
      "text/plain": [
       "عمران خان    121.0\n",
       "سیکٹر         20.0\n",
       "ہاتھ میں      13.0\n",
       "dtype: float64"
      ]
     },
     "execution_count": 84,
     "metadata": {},
     "output_type": "execute_result"
    }
   ],
   "source": [
    "train_df[list(vocab)[:3]].sum()"
   ]
  },
  {
   "cell_type": "code",
   "execution_count": 74,
   "metadata": {},
   "outputs": [
    {
     "data": {
      "text/plain": [
       "OOV_uni    10636.0\n",
       "OOV_bi     65691.0\n",
       "dtype: float64"
      ]
     },
     "execution_count": 74,
     "metadata": {},
     "output_type": "execute_result"
    }
   ],
   "source": [
    "train_df[['OOV_uni', 'OOV_bi']].sum()"
   ]
  },
  {
   "cell_type": "markdown",
   "metadata": {},
   "source": [
    "#### Test Part"
   ]
  },
  {
   "cell_type": "code",
   "execution_count": 75,
   "metadata": {},
   "outputs": [
    {
     "data": {
      "text/plain": [
       "(3950, 6)"
      ]
     },
     "execution_count": 75,
     "metadata": {},
     "output_type": "execute_result"
    }
   ],
   "source": [
    "df_test.reset_index(inplace=True)\n",
    "df_test.drop(columns=['index'], axis=1, inplace=True)\n",
    "df_test.shape"
   ]
  },
  {
   "cell_type": "code",
   "execution_count": 76,
   "metadata": {},
   "outputs": [],
   "source": [
    "stuffing = np.zeros((3950, 7055))\n",
    "stuffing_df = pd.DataFrame(stuffing, columns=FEATURES)"
   ]
  },
  {
   "cell_type": "code",
   "execution_count": 77,
   "metadata": {},
   "outputs": [
    {
     "data": {
      "text/plain": [
       "(3950, 7061)"
      ]
     },
     "execution_count": 77,
     "metadata": {},
     "output_type": "execute_result"
    }
   ],
   "source": [
    "test_df = pd.concat([df_test, stuffing_df], axis=1)\n",
    "test_df.shape"
   ]
  },
  {
   "cell_type": "code",
   "execution_count": 78,
   "metadata": {},
   "outputs": [
    {
     "name": "stdout",
     "output_type": "stream",
     "text": [
      "9157 46673\n"
     ]
    }
   ],
   "source": [
    "count_ngram_feats(test_df)"
   ]
  },
  {
   "cell_type": "markdown",
   "metadata": {},
   "source": [
    "### Model"
   ]
  },
  {
   "cell_type": "code",
   "execution_count": 1,
   "metadata": {},
   "outputs": [
    {
     "name": "stdout",
     "output_type": "stream",
     "text": [
      "absl-py==0.13.0\r\n",
      "aiohttp==3.7.4.post0\r\n",
      "aiohttp-cors==0.7.0\r\n",
      "aioredis==1.3.1\r\n",
      "appnope==0.1.0\r\n",
      "astunparse==1.6.3\r\n",
      "async-timeout==3.0.1\r\n",
      "attrs==19.3.0\r\n",
      "backcall==0.1.0\r\n",
      "bleach==3.1.4\r\n",
      "blessings==1.7\r\n",
      "boto==2.49.0\r\n",
      "boto3==1.4.8\r\n",
      "botocore==1.8.50\r\n",
      "cached-property==1.5.2\r\n",
      "cachetools==3.1.1\r\n",
      "catboost==0.25.1\r\n",
      "category-encoders==2.2.2\r\n",
      "certifi==2020.12.5\r\n",
      "cffi==1.14.0\r\n",
      "chardet==3.0.4\r\n",
      "click==8.0.1\r\n",
      "cloudpickle==1.4.1\r\n",
      "colorama==0.4.4\r\n",
      "colorful==0.5.4\r\n",
      "cryptography==2.9.2\r\n",
      "cycler==0.10.0\r\n",
      "Cython==0.29.23\r\n",
      "dask==2.19.0\r\n",
      "decorator==4.4.2\r\n",
      "defusedxml==0.6.0\r\n",
      "dill==0.3.4\r\n",
      "distributed==2.19.0\r\n",
      "dm-tree==0.1.6\r\n",
      "docutils==0.15.2\r\n",
      "entrypoints==0.3\r\n",
      "et-xmlfile==1.1.0\r\n",
      "filelock==3.0.12\r\n",
      "flatbuffers==1.12\r\n",
      "future==0.18.2\r\n",
      "gast==0.4.0\r\n",
      "gensim==3.8.0\r\n",
      "gin-config==0.4.0\r\n",
      "google-api-core==1.30.0\r\n",
      "google-api-python-client==2.10.0\r\n",
      "google-auth==1.32.0\r\n",
      "google-auth-httplib2==0.1.0\r\n",
      "google-auth-oauthlib==0.4.4\r\n",
      "google-cloud-bigquery==2.20.0\r\n",
      "google-cloud-core==1.7.1\r\n",
      "google-cloud-storage==1.28.0\r\n",
      "google-crc32c==1.1.2\r\n",
      "google-pasta==0.2.0\r\n",
      "google-resumable-media==1.3.1\r\n",
      "googleapis-common-protos==1.53.0\r\n",
      "gpustat==0.6.0\r\n",
      "graphviz==0.16\r\n",
      "grpcio==1.34.1\r\n",
      "h5py==3.1.0\r\n",
      "HeapDict==1.0.1\r\n",
      "hiredis==2.0.0\r\n",
      "httplib2==0.19.1\r\n",
      "huggingface-hub==0.0.12\r\n",
      "idna==2.9\r\n",
      "importlib-metadata==1.6.0\r\n",
      "importlib-resources==5.1.4\r\n",
      "ipykernel==5.1.4\r\n",
      "ipython==7.13.0\r\n",
      "ipython-genutils==0.2.0\r\n",
      "ipywidgets==7.5.1\r\n",
      "jedi==0.17.0\r\n",
      "Jinja2==2.11.2\r\n",
      "jmespath==0.9.4\r\n",
      "joblib==0.15.1\r\n",
      "jsonschema==3.2.0\r\n",
      "jupyter==1.0.0\r\n",
      "jupyter-client==6.1.3\r\n",
      "jupyter-console==6.1.0\r\n",
      "jupyter-core==4.6.3\r\n",
      "kaggle==1.5.12\r\n",
      "keras-nightly==2.5.0.dev2021032900\r\n",
      "Keras-Preprocessing==1.1.2\r\n",
      "kiwisolver==1.2.0\r\n",
      "lexicalrichness==0.1.3\r\n",
      "Markdown==3.3.4\r\n",
      "MarkupSafe==1.1.1\r\n",
      "matplotlib==3.1.3\r\n",
      "mistune==0.8.4\r\n",
      "mkl-fft==1.0.15\r\n",
      "mkl-random==1.1.1\r\n",
      "mkl-service==2.3.0\r\n",
      "modin==0.9.1\r\n",
      "modin-spreadsheet==0.1.2\r\n",
      "msgpack==1.0.2\r\n",
      "multidict==5.1.0\r\n",
      "nbconvert==5.6.1\r\n",
      "nbformat==5.0.6\r\n",
      "nltk==3.4.5\r\n",
      "notebook==6.0.3\r\n",
      "numexpr==2.7.3\r\n",
      "numpy==1.18.1\r\n",
      "nvidia-ml-py3==7.352.0\r\n",
      "oauth2client==4.1.3\r\n",
      "oauthlib==3.1.1\r\n",
      "opencensus==0.7.13\r\n",
      "opencensus-context==0.1.2\r\n",
      "opencv-python-headless==4.5.2.54\r\n",
      "openpyxl==3.0.7\r\n",
      "opt-einsum==3.3.0\r\n",
      "packaging==20.9\r\n",
      "pandas==1.2.3\r\n",
      "pandocfilters==1.4.2\r\n",
      "parso==0.7.0\r\n",
      "patsy==0.5.1\r\n",
      "pexpect==4.8.0\r\n",
      "pickleshare==0.7.5\r\n",
      "Pillow==8.2.0\r\n",
      "plotly==4.14.3\r\n",
      "plumbum==1.7.0\r\n",
      "portalocker==2.0.0\r\n",
      "prometheus-client==0.7.1\r\n",
      "promise==2.3\r\n",
      "prompt-toolkit==3.0.5\r\n",
      "proto-plus==1.18.1\r\n",
      "protobuf==3.17.3\r\n",
      "psutil==5.8.0\r\n",
      "ptyprocess==0.6.0\r\n",
      "py-cpuinfo==8.0.0\r\n",
      "py-spy==0.3.7\r\n",
      "pyarrow==1.0.0\r\n",
      "pyasn1==0.4.8\r\n",
      "pyasn1-modules==0.2.7\r\n",
      "pycparser==2.20\r\n",
      "Pygments==2.6.1\r\n",
      "pyOpenSSL==19.1.0\r\n",
      "pyparsing==2.4.7\r\n",
      "Pyphen==0.10.0\r\n",
      "pyrsistent==0.16.0\r\n",
      "PySocks==1.7.1\r\n",
      "pyspellchecker==0.6.2\r\n",
      "python-dateutil==2.8.1\r\n",
      "python-slugify==4.0.1\r\n",
      "pytz==2020.1\r\n",
      "PyYAML==5.4.1\r\n",
      "pyzmq==18.1.1\r\n",
      "qtconsole==4.7.4\r\n",
      "QtPy==1.9.0\r\n",
      "ray==1.1.0\r\n",
      "redis==3.5.3\r\n",
      "regex==2021.4.4\r\n",
      "requests==2.23.0\r\n",
      "requests-oauthlib==1.3.0\r\n",
      "retrying==1.3.3\r\n",
      "rpyc==4.1.5\r\n",
      "rsa==4.0\r\n",
      "s3transfer==0.1.13\r\n",
      "sacrebleu==1.5.1\r\n",
      "sacremoses==0.0.45\r\n",
      "scikit-learn==0.22.1\r\n",
      "scipy==1.4.1\r\n",
      "seaborn==0.11.1\r\n",
      "Send2Trash==1.5.0\r\n",
      "sentencepiece==0.1.96\r\n",
      "seqeval==1.2.2\r\n",
      "six==1.15.0\r\n",
      "smart-open==2.0.0\r\n",
      "sortedcontainers==2.4.0\r\n",
      "statsmodels==0.12.2\r\n",
      "tblib==1.7.0\r\n",
      "tensorboard==2.5.0\r\n",
      "tensorboard-data-server==0.6.1\r\n",
      "tensorboard-plugin-wit==1.8.0\r\n",
      "tensorflow==2.5.0\r\n",
      "tensorflow-addons==0.13.0\r\n",
      "tensorflow-datasets==4.3.0\r\n",
      "tensorflow-estimator==2.5.0\r\n",
      "tensorflow-hub==0.12.0\r\n",
      "tensorflow-metadata==1.1.0\r\n",
      "tensorflow-model-optimization==0.6.0\r\n",
      "termcolor==1.1.0\r\n",
      "terminado==0.8.3\r\n",
      "testpath==0.4.4\r\n",
      "text-unidecode==1.3\r\n",
      "textstat==0.7.1\r\n",
      "tf-slim==1.1.0\r\n",
      "tokenizers==0.10.3\r\n",
      "toolz==0.11.1\r\n",
      "tornado==6.0.4\r\n",
      "tqdm==4.61.1\r\n",
      "traitlets==4.3.3\r\n",
      "transformers==4.8.1\r\n",
      "typeguard==2.12.1\r\n",
      "typing-extensions==3.10.0.0\r\n",
      "uritemplate==3.0.1\r\n",
      "urllib3==1.25.8\r\n",
      "wcwidth==0.1.9\r\n",
      "webencodings==0.5.1\r\n",
      "Werkzeug==2.0.1\r\n",
      "widgetsnbextension==3.5.1\r\n",
      "wrapt==1.12.1\r\n",
      "xgboost==1.3.3\r\n",
      "xlrd==2.0.1\r\n",
      "yarl==1.6.3\r\n",
      "zict==2.0.0\r\n",
      "zipp==3.1.0\r\n"
     ]
    }
   ],
   "source": [
    "!pip freeze"
   ]
  },
  {
   "cell_type": "code",
   "execution_count": 79,
   "metadata": {},
   "outputs": [],
   "source": [
    "from sklearn.linear_model import LogisticRegression\n",
    "#from sklearn.ensemble import GradientBoostingClassifier \n",
    "#from xgboost import XGBClassifier\n",
    "from sklearn.model_selection import cross_validate\n",
    "from sklearn.metrics import classification_report, f1_score, roc_auc_score, accuracy_score\n",
    "#from sklearn.model_selection import GridSearchCV"
   ]
  },
  {
   "cell_type": "code",
   "execution_count": 80,
   "metadata": {},
   "outputs": [],
   "source": [
    "logreg = LogisticRegression(max_iter=1000, class_weight='balanced')"
   ]
  },
  {
   "cell_type": "code",
   "execution_count": 81,
   "metadata": {},
   "outputs": [
    {
     "data": {
      "text/plain": [
       "LogisticRegression(C=1.0, class_weight='balanced', dual=False,\n",
       "                   fit_intercept=True, intercept_scaling=1, l1_ratio=None,\n",
       "                   max_iter=1000, multi_class='auto', n_jobs=None, penalty='l2',\n",
       "                   random_state=None, solver='lbfgs', tol=0.0001, verbose=0,\n",
       "                   warm_start=False)"
      ]
     },
     "execution_count": 81,
     "metadata": {},
     "output_type": "execute_result"
    }
   ],
   "source": [
    "logreg.fit(train_df[FEATURES], train_df['target'])"
   ]
  },
  {
   "cell_type": "code",
   "execution_count": 82,
   "metadata": {},
   "outputs": [
    {
     "data": {
      "text/plain": [
       "(6000,)"
      ]
     },
     "execution_count": 82,
     "metadata": {},
     "output_type": "execute_result"
    }
   ],
   "source": [
    "y = train_df['target']\n",
    "y.shape"
   ]
  },
  {
   "cell_type": "code",
   "execution_count": 83,
   "metadata": {},
   "outputs": [],
   "source": [
    "y_pred = logreg.predict(train_df[FEATURES])\n",
    "y_pred_score = logreg.predict_proba(train_df[FEATURES])"
   ]
  },
  {
   "cell_type": "code",
   "execution_count": 84,
   "metadata": {},
   "outputs": [
    {
     "data": {
      "text/plain": [
       "(0.9248152976966536, 0.9976261418207644, 0.9711666666666666)"
      ]
     },
     "execution_count": 84,
     "metadata": {},
     "output_type": "execute_result"
    }
   ],
   "source": [
    "f1_score(y, y_pred), roc_auc_score(y, y_pred_score[:, 1]), accuracy_score(y, y_pred)"
   ]
  },
  {
   "cell_type": "code",
   "execution_count": 85,
   "metadata": {},
   "outputs": [
    {
     "data": {
      "text/plain": [
       "(0.48573324485733244, 0.7759020424960041, 0.8037974683544303)"
      ]
     },
     "execution_count": 85,
     "metadata": {},
     "output_type": "execute_result"
    }
   ],
   "source": [
    "y_pred_test = logreg.predict(test_df[FEATURES])\n",
    "y_pred_score_test = logreg.predict_proba(test_df[FEATURES])\n",
    "y_test = test_df['target']\n",
    "f1_score(y_test, y_pred_test), roc_auc_score(y_test, y_pred_score_test[:, 1]), accuracy_score(y_test, y_pred_test)"
   ]
  },
  {
   "cell_type": "code",
   "execution_count": 93,
   "metadata": {},
   "outputs": [
    {
     "data": {
      "text/plain": [
       "Index(['id', 'tweet', 'target', 'split', 'unigrams', 'bigrams', 'اگلے', 'لال',\n",
       "       'چاٹنا', 'سات'],\n",
       "      dtype='object')"
      ]
     },
     "execution_count": 93,
     "metadata": {},
     "output_type": "execute_result"
    }
   ],
   "source": [
    "test_df.columns[:10]"
   ]
  },
  {
   "cell_type": "code",
   "execution_count": 94,
   "metadata": {},
   "outputs": [
    {
     "data": {
      "text/plain": [
       "Index(['id', 'tweet', 'target', 'split', 'unigrams', 'bigrams', 'target_pred',\n",
       "       'target_pred_score'],\n",
       "      dtype='object')"
      ]
     },
     "execution_count": 94,
     "metadata": {},
     "output_type": "execute_result"
    }
   ],
   "source": [
    "df_test.columns"
   ]
  },
  {
   "cell_type": "code",
   "execution_count": 97,
   "metadata": {},
   "outputs": [
    {
     "data": {
      "text/plain": [
       "(0.4647058823529412, 0.7950178898944646, 0.818)"
      ]
     },
     "execution_count": 97,
     "metadata": {},
     "output_type": "execute_result"
    }
   ],
   "source": [
    "# Public\n",
    "y_pred_test = logreg.predict(test_df[test_df['split'] == 'public'][FEATURES])\n",
    "y_pred_score_test = logreg.predict_proba(test_df[test_df['split'] == 'public'][FEATURES])\n",
    "y_test = test_df[test_df['split'] == 'public']['target']\n",
    "f1_score(y_test, y_pred_test), roc_auc_score(y_test, y_pred_score_test[:, 1]), accuracy_score(y_test, y_pred_test)"
   ]
  },
  {
   "cell_type": "code",
   "execution_count": 98,
   "metadata": {},
   "outputs": [
    {
     "data": {
      "text/plain": [
       "(0.49185946872322195, 0.7699128283300838, 0.7989830508474576)"
      ]
     },
     "execution_count": 98,
     "metadata": {},
     "output_type": "execute_result"
    }
   ],
   "source": [
    "# Private\n",
    "y_pred_test = logreg.predict(test_df[test_df['split'] == 'private'][FEATURES])\n",
    "y_pred_score_test = logreg.predict_proba(test_df[test_df['split'] == 'private'][FEATURES])\n",
    "y_test = test_df[test_df['split'] == 'private']['target']\n",
    "f1_score(y_test, y_pred_test), roc_auc_score(y_test, y_pred_score_test[:, 1]), accuracy_score(y_test, y_pred_test)"
   ]
  },
  {
   "cell_type": "markdown",
   "metadata": {},
   "source": [
    "## Submission"
   ]
  },
  {
   "cell_type": "code",
   "execution_count": 86,
   "metadata": {},
   "outputs": [
    {
     "data": {
      "text/plain": [
       "((3950, 6), (3950,))"
      ]
     },
     "execution_count": 86,
     "metadata": {},
     "output_type": "execute_result"
    }
   ],
   "source": [
    "df_test.shape, df_test['id'].unique().shape"
   ]
  },
  {
   "cell_type": "code",
   "execution_count": 87,
   "metadata": {},
   "outputs": [
    {
     "data": {
      "text/html": [
       "<div>\n",
       "<style scoped>\n",
       "    .dataframe tbody tr th:only-of-type {\n",
       "        vertical-align: middle;\n",
       "    }\n",
       "\n",
       "    .dataframe tbody tr th {\n",
       "        vertical-align: top;\n",
       "    }\n",
       "\n",
       "    .dataframe thead th {\n",
       "        text-align: right;\n",
       "    }\n",
       "</style>\n",
       "<table border=\"1\" class=\"dataframe\">\n",
       "  <thead>\n",
       "    <tr style=\"text-align: right;\">\n",
       "      <th></th>\n",
       "      <th>id</th>\n",
       "      <th>target</th>\n",
       "      <th>score</th>\n",
       "    </tr>\n",
       "  </thead>\n",
       "  <tbody>\n",
       "    <tr>\n",
       "      <th>0</th>\n",
       "      <td>8980</td>\n",
       "      <td>0</td>\n",
       "      <td>0.0</td>\n",
       "    </tr>\n",
       "    <tr>\n",
       "      <th>1</th>\n",
       "      <td>3784</td>\n",
       "      <td>0</td>\n",
       "      <td>0.0</td>\n",
       "    </tr>\n",
       "    <tr>\n",
       "      <th>2</th>\n",
       "      <td>8312</td>\n",
       "      <td>0</td>\n",
       "      <td>0.0</td>\n",
       "    </tr>\n",
       "    <tr>\n",
       "      <th>3</th>\n",
       "      <td>9932</td>\n",
       "      <td>0</td>\n",
       "      <td>0.0</td>\n",
       "    </tr>\n",
       "    <tr>\n",
       "      <th>4</th>\n",
       "      <td>150</td>\n",
       "      <td>0</td>\n",
       "      <td>0.0</td>\n",
       "    </tr>\n",
       "  </tbody>\n",
       "</table>\n",
       "</div>"
      ],
      "text/plain": [
       "     id  target  score\n",
       "0  8980       0    0.0\n",
       "1  3784       0    0.0\n",
       "2  8312       0    0.0\n",
       "3  9932       0    0.0\n",
       "4   150       0    0.0"
      ]
     },
     "execution_count": 87,
     "metadata": {},
     "output_type": "execute_result"
    }
   ],
   "source": [
    "submission_template = pd.DataFrame(df_test['id'])\n",
    "submission_template['target'] = 0\n",
    "submission_template['score'] = 0.0\n",
    "submission_template.head()"
   ]
  },
  {
   "cell_type": "code",
   "execution_count": 88,
   "metadata": {},
   "outputs": [],
   "source": [
    "submission_template.to_csv(DIR + 'submission_template.csv', index=False)"
   ]
  },
  {
   "cell_type": "code",
   "execution_count": 89,
   "metadata": {},
   "outputs": [],
   "source": [
    "df_test['target_pred'] = y_pred_test\n",
    "df_test['target_pred_score'] = y_pred_score_test[:, 1]"
   ]
  },
  {
   "cell_type": "code",
   "execution_count": 90,
   "metadata": {},
   "outputs": [
    {
     "data": {
      "text/html": [
       "<div>\n",
       "<style scoped>\n",
       "    .dataframe tbody tr th:only-of-type {\n",
       "        vertical-align: middle;\n",
       "    }\n",
       "\n",
       "    .dataframe tbody tr th {\n",
       "        vertical-align: top;\n",
       "    }\n",
       "\n",
       "    .dataframe thead th {\n",
       "        text-align: right;\n",
       "    }\n",
       "</style>\n",
       "<table border=\"1\" class=\"dataframe\">\n",
       "  <thead>\n",
       "    <tr style=\"text-align: right;\">\n",
       "      <th></th>\n",
       "      <th>id</th>\n",
       "      <th>target</th>\n",
       "      <th>score</th>\n",
       "    </tr>\n",
       "  </thead>\n",
       "  <tbody>\n",
       "    <tr>\n",
       "      <th>0</th>\n",
       "      <td>8980</td>\n",
       "      <td>0</td>\n",
       "      <td>0.027928</td>\n",
       "    </tr>\n",
       "    <tr>\n",
       "      <th>1</th>\n",
       "      <td>3784</td>\n",
       "      <td>0</td>\n",
       "      <td>0.149285</td>\n",
       "    </tr>\n",
       "    <tr>\n",
       "      <th>2</th>\n",
       "      <td>8312</td>\n",
       "      <td>1</td>\n",
       "      <td>0.517765</td>\n",
       "    </tr>\n",
       "    <tr>\n",
       "      <th>3</th>\n",
       "      <td>9932</td>\n",
       "      <td>1</td>\n",
       "      <td>0.732198</td>\n",
       "    </tr>\n",
       "    <tr>\n",
       "      <th>4</th>\n",
       "      <td>150</td>\n",
       "      <td>0</td>\n",
       "      <td>0.335916</td>\n",
       "    </tr>\n",
       "  </tbody>\n",
       "</table>\n",
       "</div>"
      ],
      "text/plain": [
       "     id  target     score\n",
       "0  8980       0  0.027928\n",
       "1  3784       0  0.149285\n",
       "2  8312       1  0.517765\n",
       "3  9932       1  0.732198\n",
       "4   150       0  0.335916"
      ]
     },
     "execution_count": 90,
     "metadata": {},
     "output_type": "execute_result"
    }
   ],
   "source": [
    "submission_probnyi =  pd.DataFrame(df_test[['id', 'target_pred', 'target_pred_score']])\n",
    "submission_probnyi.columns = ['id', 'target', 'score']\n",
    "submission_probnyi.head()"
   ]
  },
  {
   "cell_type": "code",
   "execution_count": 92,
   "metadata": {},
   "outputs": [
    {
     "data": {
      "text/plain": [
       "((3950, 3), (3950,))"
      ]
     },
     "execution_count": 92,
     "metadata": {},
     "output_type": "execute_result"
    }
   ],
   "source": [
    "submission_probnyi.shape, submission_probnyi['id'].unique().shape"
   ]
  },
  {
   "cell_type": "code",
   "execution_count": 91,
   "metadata": {},
   "outputs": [],
   "source": [
    "submission_probnyi.to_csv(DIR + 'submission_probnyi.csv', index=False)"
   ]
  },
  {
   "cell_type": "markdown",
   "metadata": {},
   "source": [
    "## Sanity Check"
   ]
  },
  {
   "cell_type": "code",
   "execution_count": 4,
   "metadata": {},
   "outputs": [
    {
     "name": "stdout",
     "output_type": "stream",
     "text": [
      "readme.md               submission_template.csv test_answ_and_split.csv\r\n",
      "submission_probnyi.csv  test.csv                train.csv\r\n"
     ]
    }
   ],
   "source": [
    "!ls data/threat_tweets_Urdu/urdu_threat_Subtask_A_dataset_and_submission"
   ]
  },
  {
   "cell_type": "code",
   "execution_count": 5,
   "metadata": {},
   "outputs": [
    {
     "data": {
      "text/plain": [
       "((6000, 3), Index(['id', 'tweet', 'target'], dtype='object'))"
      ]
     },
     "execution_count": 5,
     "metadata": {},
     "output_type": "execute_result"
    }
   ],
   "source": [
    "# папка urdu_threat_Subtask_A_dataset_and_submission -это распаковка высланных данных \n",
    "train = pd.read_csv('data/threat_tweets_Urdu/urdu_threat_Subtask_A_dataset_and_submission/train.csv')\n",
    "train.shape, train.columns"
   ]
  },
  {
   "cell_type": "code",
   "execution_count": 16,
   "metadata": {},
   "outputs": [
    {
     "data": {
      "text/plain": [
       "1325    2\n",
       "984     2\n",
       "315     2\n",
       "825     2\n",
       "1964    2\n",
       "       ..\n",
       "2876    1\n",
       "4923    1\n",
       "6966    1\n",
       "821     1\n",
       "2047    1\n",
       "Name: id, Length: 5284, dtype: int64"
      ]
     },
     "execution_count": 16,
     "metadata": {},
     "output_type": "execute_result"
    }
   ],
   "source": [
    "train['id'].value_counts()"
   ]
  },
  {
   "cell_type": "code",
   "execution_count": 18,
   "metadata": {},
   "outputs": [
    {
     "data": {
      "text/plain": [
       "(5284,)"
      ]
     },
     "execution_count": 18,
     "metadata": {},
     "output_type": "execute_result"
    }
   ],
   "source": [
    "train['id'].unique().shape"
   ]
  },
  {
   "cell_type": "code",
   "execution_count": 6,
   "metadata": {},
   "outputs": [
    {
     "data": {
      "text/html": [
       "<div>\n",
       "<style scoped>\n",
       "    .dataframe tbody tr th:only-of-type {\n",
       "        vertical-align: middle;\n",
       "    }\n",
       "\n",
       "    .dataframe tbody tr th {\n",
       "        vertical-align: top;\n",
       "    }\n",
       "\n",
       "    .dataframe thead th {\n",
       "        text-align: right;\n",
       "    }\n",
       "</style>\n",
       "<table border=\"1\" class=\"dataframe\">\n",
       "  <thead>\n",
       "    <tr style=\"text-align: right;\">\n",
       "      <th></th>\n",
       "      <th>id</th>\n",
       "      <th>tweet</th>\n",
       "      <th>target</th>\n",
       "    </tr>\n",
       "  </thead>\n",
       "  <tbody>\n",
       "    <tr>\n",
       "      <th>0</th>\n",
       "      <td>2549</td>\n",
       "      <td>انڈیا والو اور کہا کہا زلیل ہونا ہے</td>\n",
       "      <td>0</td>\n",
       "    </tr>\n",
       "    <tr>\n",
       "      <th>1</th>\n",
       "      <td>4154</td>\n",
       "      <td>جس کی ماں گشتی باپ دلہ ہو وہ دوسروں کو بغیرت ک...</td>\n",
       "      <td>0</td>\n",
       "    </tr>\n",
       "    <tr>\n",
       "      <th>2</th>\n",
       "      <td>3738</td>\n",
       "      <td>الیکٹرانک میڈیا اتنا ظالم ھے کہ اس نے سب کو نن...</td>\n",
       "      <td>0</td>\n",
       "    </tr>\n",
       "    <tr>\n",
       "      <th>3</th>\n",
       "      <td>4442</td>\n",
       "      <td>خان نے سہی کہا تھا کہ میں ان کو رولاؤ گا ان کو...</td>\n",
       "      <td>1</td>\n",
       "    </tr>\n",
       "    <tr>\n",
       "      <th>4</th>\n",
       "      <td>511</td>\n",
       "      <td>ابھی دللی ممبی ہرجگہ کتے کی موت مریں گے یہ بزد...</td>\n",
       "      <td>1</td>\n",
       "    </tr>\n",
       "  </tbody>\n",
       "</table>\n",
       "</div>"
      ],
      "text/plain": [
       "     id                                              tweet  target\n",
       "0  2549                انڈیا والو اور کہا کہا زلیل ہونا ہے       0\n",
       "1  4154  جس کی ماں گشتی باپ دلہ ہو وہ دوسروں کو بغیرت ک...       0\n",
       "2  3738  الیکٹرانک میڈیا اتنا ظالم ھے کہ اس نے سب کو نن...       0\n",
       "3  4442  خان نے سہی کہا تھا کہ میں ان کو رولاؤ گا ان کو...       1\n",
       "4   511  ابھی دللی ممبی ہرجگہ کتے کی موت مریں گے یہ بزد...       1"
      ]
     },
     "execution_count": 6,
     "metadata": {},
     "output_type": "execute_result"
    }
   ],
   "source": [
    "train.head()"
   ]
  },
  {
   "cell_type": "code",
   "execution_count": 7,
   "metadata": {},
   "outputs": [
    {
     "name": "stdout",
     "output_type": "stream",
     "text": [
      "id,tweet,target\r\n",
      "2549,انڈیا والو اور کہا کہا زلیل ہونا ہے,0\r\n",
      "4154,جس کی ماں گشتی باپ دلہ ہو وہ دوسروں کو بغیرت کہتا ہے گشتی ماں کا بچہ,0\r\n",
      "3738,الیکٹرانک میڈیا اتنا ظالم ھے کہ اس نے سب کو ننگا کر کے رکھ چوڑا ھے,0\r\n",
      "4442,خان نے سہی کہا تھا کہ میں ان کو رولاؤ گا ان کو تکیف پہنچے گی اوے کنجروں یہ تو پارٹی شروع ہوئی ہے,1\r\n"
     ]
    }
   ],
   "source": [
    "# для сравнения - просто из-под Unix/Mac посмотреть нельзя, будет выглядеть как будто tweet & target перепутаны \n",
    "!head -n 5 data/threat_tweets_Urdu/urdu_threat_Subtask_A_dataset_and_submission/train.csv"
   ]
  },
  {
   "cell_type": "markdown",
   "metadata": {},
   "source": [
    "### Checking Test Set "
   ]
  },
  {
   "cell_type": "code",
   "execution_count": 8,
   "metadata": {},
   "outputs": [
    {
     "data": {
      "text/plain": [
       "((3950, 2), Index(['id', 'tweet'], dtype='object'))"
      ]
     },
     "execution_count": 8,
     "metadata": {},
     "output_type": "execute_result"
    }
   ],
   "source": [
    "test = pd.read_csv('data/threat_tweets_Urdu/urdu_threat_Subtask_A_dataset_and_submission/test.csv')\n",
    "test.shape, test.columns"
   ]
  },
  {
   "cell_type": "code",
   "execution_count": 9,
   "metadata": {},
   "outputs": [
    {
     "data": {
      "text/html": [
       "<div>\n",
       "<style scoped>\n",
       "    .dataframe tbody tr th:only-of-type {\n",
       "        vertical-align: middle;\n",
       "    }\n",
       "\n",
       "    .dataframe tbody tr th {\n",
       "        vertical-align: top;\n",
       "    }\n",
       "\n",
       "    .dataframe thead th {\n",
       "        text-align: right;\n",
       "    }\n",
       "</style>\n",
       "<table border=\"1\" class=\"dataframe\">\n",
       "  <thead>\n",
       "    <tr style=\"text-align: right;\">\n",
       "      <th></th>\n",
       "      <th>id</th>\n",
       "      <th>tweet</th>\n",
       "    </tr>\n",
       "  </thead>\n",
       "  <tbody>\n",
       "    <tr>\n",
       "      <th>0</th>\n",
       "      <td>4509</td>\n",
       "      <td>کشمیر میں اپنی آخری سانس تک لڑیں گئے انشاءاللہ</td>\n",
       "    </tr>\n",
       "    <tr>\n",
       "      <th>1</th>\n",
       "      <td>5025</td>\n",
       "      <td>کشمیر کا سودا کرنے والے بیغیرتوں پر الللہ کا ع...</td>\n",
       "    </tr>\n",
       "    <tr>\n",
       "      <th>2</th>\n",
       "      <td>4696</td>\n",
       "      <td>افسوس کا مقام ھے کہ حکومت میں شامل کچھ لوگ ہی ...</td>\n",
       "    </tr>\n",
       "    <tr>\n",
       "      <th>3</th>\n",
       "      <td>427</td>\n",
       "      <td>کابل میں شادی کی تقریب میں خودکش بم دھماکا افر...</td>\n",
       "    </tr>\n",
       "    <tr>\n",
       "      <th>4</th>\n",
       "      <td>778</td>\n",
       "      <td>ابی سالے چوتیہ کی اولاد تم لوگوں پیشاب بھی یہ ...</td>\n",
       "    </tr>\n",
       "  </tbody>\n",
       "</table>\n",
       "</div>"
      ],
      "text/plain": [
       "     id                                              tweet\n",
       "0  4509     کشمیر میں اپنی آخری سانس تک لڑیں گئے انشاءاللہ\n",
       "1  5025  کشمیر کا سودا کرنے والے بیغیرتوں پر الللہ کا ع...\n",
       "2  4696  افسوس کا مقام ھے کہ حکومت میں شامل کچھ لوگ ہی ...\n",
       "3   427  کابل میں شادی کی تقریب میں خودکش بم دھماکا افر...\n",
       "4   778  ابی سالے چوتیہ کی اولاد تم لوگوں پیشاب بھی یہ ..."
      ]
     },
     "execution_count": 9,
     "metadata": {},
     "output_type": "execute_result"
    }
   ],
   "source": [
    "test.head()"
   ]
  },
  {
   "cell_type": "code",
   "execution_count": 15,
   "metadata": {},
   "outputs": [
    {
     "data": {
      "text/plain": [
       "1233    2\n",
       "1047    2\n",
       "943     2\n",
       "1193    2\n",
       "1070    2\n",
       "       ..\n",
       "2820    1\n",
       "6918    1\n",
       "2824    1\n",
       "2832    1\n",
       "6141    1\n",
       "Name: id, Length: 3635, dtype: int64"
      ]
     },
     "execution_count": 15,
     "metadata": {},
     "output_type": "execute_result"
    }
   ],
   "source": [
    "test['id'].value_counts()"
   ]
  },
  {
   "cell_type": "code",
   "execution_count": null,
   "metadata": {},
   "outputs": [],
   "source": []
  }
 ],
 "metadata": {
  "kernelspec": {
   "display_name": "cs224n",
   "language": "python",
   "name": "cs224n"
  },
  "language_info": {
   "codemirror_mode": {
    "name": "ipython",
    "version": 3
   },
   "file_extension": ".py",
   "mimetype": "text/x-python",
   "name": "python",
   "nbconvert_exporter": "python",
   "pygments_lexer": "ipython3",
   "version": "3.7.7"
  },
  "toc": {
   "base_numbering": 1,
   "nav_menu": {},
   "number_sections": true,
   "sideBar": true,
   "skip_h1_title": true,
   "title_cell": "Table of Contents",
   "title_sidebar": "Contents",
   "toc_cell": false,
   "toc_position": {
    "height": "calc(100% - 180px)",
    "left": "10px",
    "top": "150px",
    "width": "210px"
   },
   "toc_section_display": true,
   "toc_window_display": true
  }
 },
 "nbformat": 4,
 "nbformat_minor": 4
}
